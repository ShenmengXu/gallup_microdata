{
 "cells": [
  {
   "cell_type": "code",
   "execution_count": 1,
   "id": "cc2150e0",
   "metadata": {},
   "outputs": [],
   "source": [
    "import pandas as pd"
   ]
  },
  {
   "cell_type": "code",
   "execution_count": 25,
   "id": "868b7fa6",
   "metadata": {},
   "outputs": [],
   "source": [
    "# Read the Stata file into a pandas DataFrame\n",
    "# df = pd.read_stata('Gallup_World_Poll_Wave_11_18_021524.dta')\n",
    "# Encountered MemoryError: Unable to allocate 5.50 GiB for an array with shape (628, 1175554) and data type float64"
   ]
  },
  {
   "cell_type": "code",
   "execution_count": 4,
   "id": "f5563afa",
   "metadata": {},
   "outputs": [
    {
     "name": "stdout",
     "output_type": "stream",
     "text": [
      "(1175554, 650)\n"
     ]
    }
   ],
   "source": [
    "# Due to memory error above, read in chuncks.\n",
    "# Specify the chunksize (e.g., 10,000 rows at a time)\n",
    "chunksize = 10000\n",
    "\n",
    "# Initialize an empty list to store the chunks\n",
    "chunks = []\n",
    "\n",
    "# Read the file in chunks and append them to the list\n",
    "for chunk in pd.read_stata('Gallup_World_Poll_Wave_11_18_021524.dta', convert_categoricals=False, chunksize=chunksize):\n",
    "    chunks.append(chunk)\n",
    "\n",
    "# Concatenate the chunks into a single DataFrame\n",
    "df = pd.concat(chunks, ignore_index=True)\n",
    "\n",
    "# Now you can work with the DataFrame\n",
    "print(df.shape)"
   ]
  },
  {
   "cell_type": "code",
   "execution_count": 5,
   "id": "6ddb53be",
   "metadata": {},
   "outputs": [
    {
     "name": "stdout",
     "output_type": "stream",
     "text": [
      "Number of columns: 650\n",
      "Number of observations: 1175554\n"
     ]
    }
   ],
   "source": [
    "# Check the data structure\n",
    "print(f'Number of columns: {df.shape[1]}')\n",
    "print(f'Number of observations: {df.shape[0]}')"
   ]
  },
  {
   "cell_type": "code",
   "execution_count": 26,
   "id": "de8931c2",
   "metadata": {},
   "outputs": [
    {
     "data": {
      "text/plain": [
       "Index(['WP5889', 'WP5', 'wave', 'wpid', 'WPID_RANDOM', 'wgt', 'FIELD_DATE',\n",
       "       'COUNTRY_ISO2', 'COUNTRY_ISO3', 'countrynew',\n",
       "       ...\n",
       "       'WP9608', 'WP97', 'WP9700', 'WP9701', 'WP9707', 'WP98', 'WP9811',\n",
       "       'WP99', 'YEAR_CALENDAR', 'YEAR_WAVE'],\n",
       "      dtype='object', length=650)"
      ]
     },
     "execution_count": 26,
     "metadata": {},
     "output_type": "execute_result"
    }
   ],
   "source": [
    "# Check column names\n",
    "df.columns"
   ]
  },
  {
   "cell_type": "code",
   "execution_count": 27,
   "id": "188ae5c6",
   "metadata": {},
   "outputs": [
    {
     "name": "stdout",
     "output_type": "stream",
     "text": [
      "                 wpid       wgt  YEAR_WAVE  WP130  WP1219  WP1220  WP1223  \\\n",
      "0        1.110010e+13  2.214427       2016    2.0       2    25.0     1.0   \n",
      "1        1.110010e+13  1.035961       2016    NaN       2    26.0     1.0   \n",
      "2        1.110010e+13  0.766034       2016    2.0       1    25.0     2.0   \n",
      "3        1.110010e+13  0.311334       2016    NaN       1    72.0     2.0   \n",
      "4        1.110010e+13  0.311334       2016    1.0       1    72.0     2.0   \n",
      "...               ...       ...        ...    ...     ...     ...     ...   \n",
      "1175549  1.812020e+13  1.679934       2023    2.0       1    46.0     4.0   \n",
      "1175550  1.812020e+13  0.245293       2023    2.0       1    51.0     2.0   \n",
      "1175551  1.812020e+13  0.245293       2023    2.0       1    40.0     2.0   \n",
      "1175552  1.812020e+13  0.356121       2023    1.0       1    36.0     2.0   \n",
      "1175553  1.812020e+13  0.313920       2023    2.0       1    51.0     1.0   \n",
      "\n",
      "         WP2319       countrynew       INCOME_4  WP93  WP129   INDEX_YD  \n",
      "0             1    United States   24000.000000   NaN    1.0        NaN  \n",
      "1             3    United States  516000.000000   2.0    NaN        NaN  \n",
      "2             1    United States   16000.000000   NaN    1.0        NaN  \n",
      "3             1    United States   42000.000000   1.0    NaN        NaN  \n",
      "4             1    United States   72000.000000   NaN    1.0        NaN  \n",
      "...         ...              ...            ...   ...    ...        ...  \n",
      "1175549       3  Northern Cyprus   11316.596966   2.0    1.0  33.333333  \n",
      "1175550       2  Northern Cyprus   25462.343173   2.0    2.0   0.000000  \n",
      "1175551       2  Northern Cyprus   10609.309655   1.0    1.0  66.666667  \n",
      "1175552       2  Northern Cyprus   42437.238621   3.0    2.0  33.333333  \n",
      "1175553       2  Northern Cyprus   59412.134070   3.0    1.0  33.333333  \n",
      "\n",
      "[1175554 rows x 13 columns]\n"
     ]
    }
   ],
   "source": [
    "# Access columns\n",
    "# Note: refer to \"Gallup_WorldPoll_Codebook_04112023.log\" and \"World_Poll_Methodology_021524.pdf\" for questions and codes.\n",
    "print(df[['wpid', 'wgt', 'YEAR_WAVE', 'WP130', 'WP1219', 'WP1220', 'WP1223', 'WP2319', 'countrynew', 'INCOME_4', 'WP93', 'WP129', 'INDEX_YD']])"
   ]
  },
  {
   "cell_type": "code",
   "execution_count": 28,
   "id": "d6ec76a2",
   "metadata": {},
   "outputs": [
    {
     "data": {
      "text/plain": [
       "2019    176253\n",
       "2017    155166\n",
       "2018    152874\n",
       "2016    150724\n",
       "2022    143686\n",
       "2023    140475\n",
       "2020    129474\n",
       "2021    126902\n",
       "Name: YEAR_WAVE, dtype: int64"
      ]
     },
     "execution_count": 28,
     "metadata": {},
     "output_type": "execute_result"
    }
   ],
   "source": [
    "# Check data, if needed\n",
    "df['YEAR_WAVE'].value_counts()"
   ]
  },
  {
   "cell_type": "code",
   "execution_count": 29,
   "id": "e6b1929a",
   "metadata": {},
   "outputs": [],
   "source": [
    "# Extract the requested columns\n",
    "new_df = df[['wpid', 'wgt', 'YEAR_WAVE', 'WP130', 'WP1219', 'WP1220', 'WP1223', 'WP2319', 'countrynew', 'INCOME_4', 'WP93', 'WP129', 'INDEX_YD']]\n",
    "\n",
    "# Export the new DataFrame to a CSV file\n",
    "new_df.to_csv('new_data.csv', index=False)"
   ]
  },
  {
   "cell_type": "code",
   "execution_count": 30,
   "id": "0b51e367",
   "metadata": {},
   "outputs": [
    {
     "data": {
      "text/plain": [
       "(1175554, 13)"
      ]
     },
     "execution_count": 30,
     "metadata": {},
     "output_type": "execute_result"
    }
   ],
   "source": [
    "new_df.shape"
   ]
  }
 ],
 "metadata": {
  "kernelspec": {
   "display_name": "Python 3 (ipykernel)",
   "language": "python",
   "name": "python3"
  },
  "language_info": {
   "codemirror_mode": {
    "name": "ipython",
    "version": 3
   },
   "file_extension": ".py",
   "mimetype": "text/x-python",
   "name": "python",
   "nbconvert_exporter": "python",
   "pygments_lexer": "ipython3",
   "version": "3.9.7"
  }
 },
 "nbformat": 4,
 "nbformat_minor": 5
}
